{
 "cells": [
  {
   "cell_type": "markdown",
   "metadata": {},
   "source": [
    "# Young People Survey\n",
    "Each row of the dataset contains the answers given by a student to each of 150 questions. There are both numerical and categorical types of answers. Some data may be missing.  The survey is divided in 8 groups:\n",
    "* Music preferences (19 items)\n",
    "* Movie preferences (12 items)\n",
    "* Hobbies & interests (32 items)\n",
    "* Phobias (10 items)\n",
    "* Health habits (3 items)\n",
    "* Personality traits, views on life, & opinions (57 items)\n",
    "* Spending habits (7 items)\n",
    "* Demographics (10 items)\n",
    "\n",
    "Examples of questions and possible answers:\n",
    "* I enjoy listening to music.: Strongly disagree 1-2-3-4-5 Strongly agree (integer)\n",
    "* Thriller movies: Don't enjoy at all 1-2-3-4-5 Enjoy very much (integer)\n",
    "* History: Not interested 1-2-3-4-5 Very interested (integer)\n",
    "* Spiders: Not afraid at all 1-2-3-4-5 Very afraid of (integer)\n",
    "* Smoking habits: Never smoked - Tried smoking - Former smoker - Current smoker (categorical)\n",
    "* I try to do tasks as soon as possible and not leave them until last minute.: Strongly disagree 1-2-3-4-5 Strongly agree (integer)\n",
    "* I save all the money I can.: Strongly disagree 1-2-3-4-5 Strongly agree (integer)\n",
    "* Gender: Female - Male (categorical)"
   ]
  },
  {
   "cell_type": "code",
   "execution_count": null,
   "metadata": {},
   "outputs": [],
   "source": [
    "import pandas as pd\n",
    "import seaborn as sns\n",
    "import matplotlib.pyplot as plt\n",
    "\n",
    "sns.set()"
   ]
  },
  {
   "cell_type": "code",
   "execution_count": null,
   "metadata": {},
   "outputs": [],
   "source": [
    "df = pd.read_csv('data/responses.csv')\n",
    "df.shape"
   ]
  },
  {
   "cell_type": "code",
   "execution_count": null,
   "metadata": {},
   "outputs": [],
   "source": [
    "df.head()"
   ]
  },
  {
   "cell_type": "code",
   "execution_count": null,
   "metadata": {},
   "outputs": [],
   "source": [
    "MUSIC_IDS = range(19)\n",
    "MOVIES_IDS = range(19,31)\n",
    "HOBBIES_IDS = range(31,63)\n",
    "PHOBIAS_IDS = range(63,73)\n",
    "HEALTH_IDS = range(73,76)\n",
    "PERSONALITY_IDS = range(76,133)\n",
    "HABITS_IDS = range(133,140)\n",
    "DEMOGRAPHICS_IDS = range(140,150)"
   ]
  },
  {
   "cell_type": "markdown",
   "metadata": {},
   "source": [
    "### Music preferences (19 items)\n",
    "Integers from 1 to 5"
   ]
  },
  {
   "cell_type": "code",
   "execution_count": null,
   "metadata": {},
   "outputs": [],
   "source": [
    "print(', '.join(df.columns[MUSIC_IDS]))\n",
    "df[df.columns[MUSIC_IDS]].head()"
   ]
  },
  {
   "cell_type": "code",
   "execution_count": null,
   "metadata": {},
   "outputs": [],
   "source": [
    "sns.histplot(data=df, x='Folk', bins=5)"
   ]
  },
  {
   "cell_type": "markdown",
   "metadata": {},
   "source": [
    "### Movie preferences (12 items)\n",
    "Integers from 1 to 5"
   ]
  },
  {
   "cell_type": "code",
   "execution_count": null,
   "metadata": {},
   "outputs": [],
   "source": [
    "print(', '.join(df.columns[MOVIES_IDS]))\n",
    "df[df.columns[MOVIES_IDS]].head()"
   ]
  },
  {
   "cell_type": "code",
   "execution_count": null,
   "metadata": {},
   "outputs": [],
   "source": [
    "sns.histplot(data=df, x='Thriller', bins=5)"
   ]
  },
  {
   "cell_type": "markdown",
   "metadata": {},
   "source": [
    "### Hobbies & interests (32 items)\n",
    "Integers from 1 to 5"
   ]
  },
  {
   "cell_type": "code",
   "execution_count": null,
   "metadata": {},
   "outputs": [],
   "source": [
    "print(', '.join(df.columns[HOBBIES_IDS]))\n",
    "df[df.columns[HOBBIES_IDS]].head()"
   ]
  },
  {
   "cell_type": "markdown",
   "metadata": {},
   "source": [
    "### Phobias (10 items)\n",
    "Integers from 1 to 5"
   ]
  },
  {
   "cell_type": "code",
   "execution_count": null,
   "metadata": {},
   "outputs": [],
   "source": [
    "print(', '.join(df.columns[PHOBIAS_IDS]))\n",
    "df[df.columns[PHOBIAS_IDS]].head()"
   ]
  },
  {
   "cell_type": "markdown",
   "metadata": {},
   "source": [
    "### Health habits (3 items)\n",
    "Categorical, integers from 1 to 5"
   ]
  },
  {
   "cell_type": "code",
   "execution_count": null,
   "metadata": {},
   "outputs": [],
   "source": [
    "print(', '.join(df.columns[HEALTH_IDS]))\n",
    "df[df.columns[HEALTH_IDS]].head()"
   ]
  },
  {
   "cell_type": "markdown",
   "metadata": {},
   "source": [
    "### Personality traits, views on life, & opinions (57 items)\n",
    "Integers from 1 to 5, categorical"
   ]
  },
  {
   "cell_type": "code",
   "execution_count": null,
   "metadata": {},
   "outputs": [],
   "source": [
    "print(', '.join(df.columns[PERSONALITY_IDS]))\n",
    "df[df.columns[PERSONALITY_IDS]].head()"
   ]
  },
  {
   "cell_type": "markdown",
   "metadata": {},
   "source": [
    "### Spending habits (7 items)\n",
    "Integers from 1 to 5"
   ]
  },
  {
   "cell_type": "code",
   "execution_count": null,
   "metadata": {},
   "outputs": [],
   "source": [
    "print(', '.join(df.columns[HABITS_IDS]))\n",
    "df[df.columns[HABITS_IDS]].head()"
   ]
  },
  {
   "cell_type": "markdown",
   "metadata": {},
   "source": [
    "### Demographics (10 items)\n",
    "Floats, categorical"
   ]
  },
  {
   "cell_type": "code",
   "execution_count": null,
   "metadata": {},
   "outputs": [],
   "source": [
    "print(', '.join(df.columns[DEMOGRAPHICS_IDS]))\n",
    "df[df.columns[DEMOGRAPHICS_IDS]].head()"
   ]
  },
  {
   "cell_type": "code",
   "execution_count": null,
   "metadata": {},
   "outputs": [],
   "source": []
  }
 ],
 "metadata": {
  "kernelspec": {
   "display_name": "Python 3",
   "language": "python",
   "name": "python3"
  },
  "language_info": {
   "codemirror_mode": {
    "name": "ipython",
    "version": 3
   },
   "file_extension": ".py",
   "mimetype": "text/x-python",
   "name": "python",
   "nbconvert_exporter": "python",
   "pygments_lexer": "ipython3",
   "version": "3.8.5"
  }
 },
 "nbformat": 4,
 "nbformat_minor": 4
}
